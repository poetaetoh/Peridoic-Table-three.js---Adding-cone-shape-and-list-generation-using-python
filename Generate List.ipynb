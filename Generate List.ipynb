{
  "metadata": {
    "language_info": {
      "codemirror_mode": {
        "name": "python",
        "version": 3
      },
      "file_extension": ".py",
      "mimetype": "text/x-python",
      "name": "python",
      "nbconvert_exporter": "python",
      "pygments_lexer": "ipython3",
      "version": "3.8"
    },
    "kernelspec": {
      "name": "python",
      "display_name": "Python (Pyodide)",
      "language": "python"
    }
  },
  "nbformat_minor": 4,
  "nbformat": 4,
  "cells": [
    {
      "cell_type": "code",
      "source": "import random\n\n# Initialize an empty array\nmy_array = []\n\n# Initialize variables for the integer and fifth element counters\ninteger_counter = 1\nfifth_element_counter = 1\n\n# Create a list of unique names\nunique_names = [\n    'Alice', 'Bob', 'Charlie', 'David', 'Eve', 'Frank', 'Grace', 'Hannah', 'Ivy', 'Jack',\n    'Katie', 'Liam', 'Mia', 'Noah', 'Olivia', 'Parker', 'Quinn', 'Ryan', 'Sophia', 'Thomas',\n    'Ava', 'Benjamin', 'Chloe', 'Daniel', 'Emma', 'Freya', 'George', 'Harper', 'Isabella', 'James',\n    'Katherine', 'Leo', 'Madison', 'Nathan', 'Oliver', 'Penelope', 'Quincy', 'Riley', 'Samuel', 'Taylor',\n    'Uma', 'Victor', 'Willow', 'Xander', 'Yasmine', 'Zachary', 'Abigail', 'Brandon', 'Catherine', 'Dylan',\n    'Ella', 'Finn', 'Grace', 'Henry', 'Isabelle', 'Jacob', 'Kayla', 'Liam', 'Mila', 'Nora',\n    'Owen', 'Peyton', 'Quinn', 'Ryan', 'Scarlett', 'Theo', 'Uma', 'Violet', 'William', 'Xavier',\n    'Yara', 'Zoe', 'Alexa', 'Bentley', 'Cora', 'Declan', 'Eliza', 'Felix', 'Gianna', 'Hudson',\n    'Isla', 'Jasper', 'Kylie', 'Lucas', 'Maeve', 'Natalie', 'Oscar', 'Paige', 'Quentin', 'Rebecca',\n    'Sofia', 'Tristan', 'Ulysses', 'Vivian', 'Wyatt', 'Xander', 'Yasmine', 'Zane', 'Aria', 'Blake',\n    'Caroline', 'Dominic', 'Evelyn', 'Finnley', 'Gabriella', 'Harrison', 'Ivy', 'Jaxon', 'Kendall',\n    'Luna', 'Mason', 'Nina', 'Oliver', 'Piper', 'Quincy', 'Riley', 'Sadie', 'Theodore', 'Ursula',\n    'Vincent', 'Willow', 'Xavier', 'Yara', 'Zachary'\n]\n\n# Create the array\nfor i in range(1, 118):\n    # Determine the gender (\"F\" or \"M\")\n    gender = f\"'{random.choice(['F', 'M'])}'\"\n    \n    # Generate a random unique name\n    name = f\"'{unique_names.pop()}'\"\n    \n    # Generate a random age between 18 and 65\n    age = f\"'{random.randint(18, 65)}'\"\n    \n    # Add the elements to the array\n    my_array.extend([gender, name, age, str(integer_counter), str(fifth_element_counter)])\n    \n    # Increment the integer and fifth element counters\n    integer_counter += 1\n    if integer_counter > 10:\n        integer_counter = 1\n        fifth_element_counter += 1\n        \n    # Print a newline every 5 elements\n    my_array.append(\"\\n\")\n\n# Convert the array elements to a string\nmy_array_str = ', '.join(my_array)\n\n#print(my_array_str)\n# Print the final array with newlines and no commas after newlines\nmy_array_str = my_array_str.replace('\\n, ', '\\n')\n# Print the final result\nprint(f'[{my_array_str}]')",
      "metadata": {
        "trusted": true
      },
      "execution_count": 1,
      "outputs": [
        {
          "name": "stdout",
          "text": "['M', 'Zachary', '49', 1, 1, \n'M', 'Yara', '19', 2, 1, \n'M', 'Xavier', '20', 3, 1, \n'M', 'Willow', '28', 4, 1, \n'F', 'Vincent', '47', 5, 1, \n'F', 'Ursula', '23', 6, 1, \n'M', 'Theodore', '36', 7, 1, \n'M', 'Sadie', '19', 8, 1, \n'M', 'Riley', '20', 9, 1, \n'M', 'Quincy', '35', 10, 1, \n'M', 'Piper', '21', 1, 2, \n'F', 'Oliver', '51', 2, 2, \n'M', 'Nina', '22', 3, 2, \n'F', 'Mason', '34', 4, 2, \n'F', 'Luna', '48', 5, 2, \n'F', 'Kendall', '37', 6, 2, \n'F', 'Jaxon', '18', 7, 2, \n'M', 'Ivy', '63', 8, 2, \n'F', 'Harrison', '60', 9, 2, \n'F', 'Gabriella', '55', 10, 2, \n'F', 'Finnley', '25', 1, 3, \n'M', 'Evelyn', '49', 2, 3, \n'F', 'Dominic', '38', 3, 3, \n'F', 'Caroline', '24', 4, 3, \n'F', 'Blake', '61', 5, 3, \n'F', 'Aria', '53', 6, 3, \n'F', 'Zane', '55', 7, 3, \n'F', 'Yasmine', '19', 8, 3, \n'M', 'Xander', '42', 9, 3, \n'F', 'Wyatt', '60', 10, 3, \n'M', 'Vivian', '26', 1, 4, \n'F', 'Ulysses', '32', 2, 4, \n'F', 'Tristan', '47', 3, 4, \n'M', 'Sofia', '57', 4, 4, \n'F', 'Rebecca', '56', 5, 4, \n'M', 'Quentin', '29', 6, 4, \n'F', 'Paige', '62', 7, 4, \n'F', 'Oscar', '48', 8, 4, \n'F', 'Natalie', '44', 9, 4, \n'M', 'Maeve', '51', 10, 4, \n'F', 'Lucas', '59', 1, 5, \n'F', 'Kylie', '58', 2, 5, \n'F', 'Jasper', '53', 3, 5, \n'F', 'Isla', '38', 4, 5, \n'F', 'Hudson', '61', 5, 5, \n'M', 'Gianna', '31', 6, 5, \n'M', 'Felix', '25', 7, 5, \n'M', 'Eliza', '60', 8, 5, \n'M', 'Declan', '53', 9, 5, \n'M', 'Cora', '22', 10, 5, \n'M', 'Bentley', '39', 1, 6, \n'M', 'Alexa', '23', 2, 6, \n'F', 'Zoe', '64', 3, 6, \n'F', 'Yara', '42', 4, 6, \n'F', 'Xavier', '18', 5, 6, \n'F', 'William', '37', 6, 6, \n'M', 'Violet', '50', 7, 6, \n'M', 'Uma', '55', 8, 6, \n'F', 'Theo', '62', 9, 6, \n'M', 'Scarlett', '47', 10, 6, \n'M', 'Ryan', '39', 1, 7, \n'F', 'Quinn', '61', 2, 7, \n'M', 'Peyton', '30', 3, 7, \n'F', 'Owen', '37', 4, 7, \n'M', 'Nora', '59', 5, 7, \n'M', 'Mila', '26', 6, 7, \n'M', 'Liam', '38', 7, 7, \n'M', 'Kayla', '53', 8, 7, \n'M', 'Jacob', '27', 9, 7, \n'F', 'Isabelle', '21', 10, 7, \n'M', 'Henry', '53', 1, 8, \n'M', 'Grace', '53', 2, 8, \n'F', 'Finn', '43', 3, 8, \n'M', 'Ella', '45', 4, 8, \n'M', 'Dylan', '51', 5, 8, \n'M', 'Catherine', '55', 6, 8, \n'M', 'Brandon', '29', 7, 8, \n'M', 'Abigail', '58', 8, 8, \n'F', 'Zachary', '65', 9, 8, \n'M', 'Yasmine', '36', 10, 8, \n'M', 'Xander', '36', 1, 9, \n'M', 'Willow', '57', 2, 9, \n'F', 'Victor', '45', 3, 9, \n'M', 'Uma', '55', 4, 9, \n'F', 'Taylor', '34', 5, 9, \n'M', 'Samuel', '29', 6, 9, \n'F', 'Riley', '50', 7, 9, \n'F', 'Quincy', '44', 8, 9, \n'M', 'Penelope', '59', 9, 9, \n'M', 'Oliver', '20', 10, 9, \n'M', 'Nathan', '19', 1, 10, \n'M', 'Madison', '35', 2, 10, \n'M', 'Leo', '29', 3, 10, \n'M', 'Katherine', '19', 4, 10, \n'M', 'James', '51', 5, 10, \n'M', 'Isabella', '32', 6, 10, \n'M', 'Harper', '43', 7, 10, \n'M', 'George', '51', 8, 10, \n'F', 'Freya', '53', 9, 10, \n'M', 'Emma', '36', 10, 10, \n'M', 'Daniel', '58', 1, 11, \n'M', 'Chloe', '51', 2, 11, \n'M', 'Benjamin', '19', 3, 11, \n'M', 'Ava', '24', 4, 11, \n'F', 'Thomas', '50', 5, 11, \n'F', 'Sophia', '44', 6, 11, \n'M', 'Ryan', '39', 7, 11, \n'F', 'Quinn', '65', 8, 11, \n'F', 'Parker', '33', 9, 11, \n'F', 'Olivia', '51', 10, 11, \n'M', 'Noah', '61', 1, 12, \n'M', 'Mia', '47', 2, 12, \n'F', 'Liam', '24', 3, 12, \n'F', 'Katie', '38', 4, 12, \n'F', 'Jack', '31', 5, 12, \n'F', 'Ivy', '34', 6, 12, \n'F', 'Hannah', '20', 7, 12, \n]\n",
          "output_type": "stream"
        }
      ]
    },
    {
      "cell_type": "code",
      "source": "",
      "metadata": {},
      "execution_count": null,
      "outputs": []
    }
  ]
}